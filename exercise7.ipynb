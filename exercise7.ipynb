{
 "cells": [
  {
   "cell_type": "markdown",
   "id": "c4808a5d",
   "metadata": {},
   "source": [
    "#### Task\n",
    "\n",
    "Write a python class called PinholeCamera, the class should have the following methods:\n",
    "\n",
    " 1- Constructor\n",
    "def __init__(self, K : np.ndarray ,dist_coefs : np.ndarray, world_R_cam : np.ndarray  , world_t_cam : np.ndarray )\n",
    "  \"\"\"\n",
    "  constructor, that takes camera intrinsic and extrinsics\n",
    "  \"\"\"\n",
    "\n",
    "2 - Project\n",
    "def project(self, world_pts_3d : np.ndarray) -> np.ndarray\n",
    "  \"\"\"\n",
    "    projects a 3d array of points into camera plane\n",
    "  \"\"\"\n",
    "\n",
    "3 - Unproject\n",
    "\n",
    "def unproject(self, image_pts_2d : np.ndarray) -> np.ndarray\n",
    "  \"\"\"\n",
    "    projects 2d detected points from the image as camera rays\n",
    "  \"\"\"\n",
    "\n",
    "write tests (with data that you create) that show that your class  works properly"
   ]
  },
  {
   "cell_type": "code",
   "execution_count": null,
   "id": "b8edc7d5",
   "metadata": {},
   "outputs": [],
   "source": [
    "import numpy as np\n",
    "import cv2\n",
    "\n",
    "class PinholeCamera:\n",
    "    def __init__(self, K: np.ndarray, dist_coefs: np.ndarray, R: np.ndarray, t: np.ndarray):\n",
    "        self.K = K\n",
    "        self.dist_coefs = dist_coefs\n",
    "        self.R = R\n",
    "        self.t = t.reshape(-1, 1)  # Ensure t is a 3x1 column vector (or 3x1 row vector)\n",
    "\n",
    "    def project(self, world_pts_3d: np.ndarray) -> np.ndarray:\n",
    "        # Ensure world_pts_3d is in the correct shape and type\n",
    "        world_pts_3d = np.asarray(world_pts_3d, dtype=np.float32).reshape(-1, 3)\n",
    "        \n",
    "        # Project the 3D points into the 2D image plane using OpenCV's projectPoints\n",
    "        image_pts, _ = cv2.projectPoints(world_pts_3d, self.R, self.t, self.K, self.dist_coefs)\n",
    "        \n",
    "        return image_pts.squeeze()\n",
    "\n",
    "    def unproject(self, image_pts_2d: np.ndarray) -> np.ndarray:\n",
    "        # Undistort the image points before unprojection\n",
    "        image_pts_2d = cv2.undistortPoints(image_pts_2d.reshape(-1, 1, 2), self.K, self.dist_coefs)\n",
    "        \n",
    "        rays = image_pts_2d.reshape(-1, 2)\n",
    "        ones = np.ones((rays.shape[0], 1))\n",
    "        cam_rays = np.hstack((rays, ones))\n",
    "        \n",
    "        # Rotate to world frame\n",
    "        return cam_rays @ self.R.T  \n"
   ]
  },
  {
   "cell_type": "code",
   "execution_count": 2,
   "id": "cd962396",
   "metadata": {},
   "outputs": [
    {
     "name": "stdout",
     "output_type": "stream",
     "text": [
      "Projected points:\n",
      " [[320. 240.]\n",
      " [160.  80.]\n",
      " [480. 400.]]\n"
     ]
    }
   ],
   "source": [
    "def test_pinhole_camera():\n",
    "    K = np.array([[800, 0, 320],\n",
    "                  [0, 800, 240],\n",
    "                  [0, 0, 1]], dtype=np.float32)\n",
    "    dist = np.zeros(5, dtype=np.float32)\n",
    "    R = np.eye(3, dtype=np.float32)\n",
    "    t = np.array([[0], [0], [-5]], dtype=np.float32)\n",
    "    \n",
    "    cam = PinholeCamera(K, dist, R, t)\n",
    "    \n",
    "    world_pts = np.array([[0, 0, 0],\n",
    "                          [1, 1, 0],\n",
    "                          [-1, -1, 0]], dtype=np.float32)\n",
    "    \n",
    "    proj = cam.project(world_pts)\n",
    "    print(\"Projected points:\\n\", proj)\n",
    "\n",
    "test_pinhole_camera()\n"
   ]
  }
 ],
 "metadata": {
  "kernelspec": {
   "display_name": "venv",
   "language": "python",
   "name": "python3"
  },
  "language_info": {
   "codemirror_mode": {
    "name": "ipython",
    "version": 3
   },
   "file_extension": ".py",
   "mimetype": "text/x-python",
   "name": "python",
   "nbconvert_exporter": "python",
   "pygments_lexer": "ipython3",
   "version": "3.8.10"
  }
 },
 "nbformat": 4,
 "nbformat_minor": 5
}
