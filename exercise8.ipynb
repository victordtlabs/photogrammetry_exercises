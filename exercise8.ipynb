{
 "cells": [
  {
   "cell_type": "markdown",
   "id": "3b98c307",
   "metadata": {},
   "source": [
    "#### Task\n",
    "Write a class that takes 2 set of 2d observations (pixel coordinates) and 2 sets of camera parameters and estimate the 3d coordinates of the observed points. "
   ]
  },
  {
   "cell_type": "code",
   "execution_count": 1,
   "id": "c892ef76",
   "metadata": {},
   "outputs": [],
   "source": [
    "import numpy as np\n",
    "import cv2"
   ]
  },
  {
   "cell_type": "code",
   "execution_count": 2,
   "id": "aada0567",
   "metadata": {},
   "outputs": [],
   "source": [
    "class Triangulator:\n",
    "    def __init__(self, K1, R1, t1, K2, R2, t2):\n",
    "        \"\"\"\n",
    "        Kx: Intrinsic matrix (3x3)\n",
    "        Rx: Rotation matrix (3x3)\n",
    "        tx: Translation vector (3x1)\n",
    "        \"\"\"\n",
    "        self.P1 = K1 @ np.hstack((R1, t1))\n",
    "        self.P2 = K2 @ np.hstack((R2, t2))\n",
    "\n",
    "    def triangulate(self, pts1, pts2):\n",
    "        \"\"\"\n",
    "        pts1, pts2: Nx2 arrays of corresponding 2D points in image 1 and 2\n",
    "        Returns: Nx3 array of 3D points\n",
    "        \"\"\"\n",
    "        pts1 = pts1.T.astype(float)  # shape (2, N)\n",
    "        pts2 = pts2.T.astype(float)\n",
    "\n",
    "        pts_4d_h = cv2.triangulatePoints(self.P1, self.P2, pts1, pts2)  # shape (4, N)\n",
    "        pts_3d = pts_4d_h[:3] / pts_4d_h[3]  # Convert from homogeneous to 3D\n",
    "        return pts_3d.T  # shape (N, 3)\n"
   ]
  },
  {
   "cell_type": "code",
   "execution_count": 3,
   "id": "89cfc5b7",
   "metadata": {},
   "outputs": [
    {
     "name": "stdout",
     "output_type": "stream",
     "text": [
      "True 3D Points:\n",
      " [[-0.25091976  0.90142861  4.46398788]\n",
      " [ 0.19731697 -0.68796272  3.31198904]\n",
      " [-0.88383278  0.73235229  4.20223002]\n",
      " [ 0.41614516 -0.95883101  4.9398197 ]\n",
      " [ 0.66488528 -0.57532178  3.36364993]\n",
      " [-0.63319098 -0.39151551  4.04951286]\n",
      " [-0.13610996 -0.41754172  4.22370579]\n",
      " [-0.72101228 -0.4157107   3.73272369]\n",
      " [-0.08786003  0.57035192  3.39934756]\n",
      " [ 0.02846888  0.18482914  3.09290083]]\n",
      "\n",
      "Reconstructed 3D Points:\n",
      " [[-0.25091976  0.90142861  4.46398788]\n",
      " [ 0.19731697 -0.68796272  3.31198904]\n",
      " [-0.88383278  0.73235229  4.20223002]\n",
      " [ 0.41614516 -0.95883101  4.9398197 ]\n",
      " [ 0.66488528 -0.57532178  3.36364993]\n",
      " [-0.63319098 -0.39151551  4.04951286]\n",
      " [-0.13610996 -0.41754172  4.22370579]\n",
      " [-0.72101228 -0.4157107   3.73272369]\n",
      " [-0.08786003  0.57035192  3.39934756]\n",
      " [ 0.02846888  0.18482914  3.09290083]]\n",
      "\n",
      "Reconstruction Error (per point):\n",
      "[1.45388357e-14 8.22858031e-15 1.28848067e-14 1.53765889e-14\n",
      " 8.61264054e-15 1.17032463e-14 1.16135113e-14 9.52594646e-15\n",
      " 9.02636753e-15 8.01117464e-15]\n",
      "\n",
      "Mean Error: 1.0952169838152138e-14\n"
     ]
    }
   ],
   "source": [
    "# Intrinsics\n",
    "K = np.array([[800, 0, 320],\n",
    "              [0, 800, 240],\n",
    "              [0,   0,   1]])\n",
    "\n",
    "# Camera extrinsics\n",
    "R1 = np.eye(3)\n",
    "t1 = np.zeros((3, 1))\n",
    "\n",
    "R2 = cv2.Rodrigues(np.array([0, 0.05, 0]))[0]  # Small rotation around Y\n",
    "t2 = np.array([[1.0], [0], [0]])  # Translate 1m on X axis\n",
    "\n",
    "# Create synthetic 3D points\n",
    "np.random.seed(42)\n",
    "true_pts_3d = np.random.uniform(low=[-1, -1, 3], high=[1, 1, 5], size=(10, 3))\n",
    "\n",
    "# Project points into both cameras\n",
    "def project_points(pts_3d, K, R, t):\n",
    "    rvec, _ = cv2.Rodrigues(R)\n",
    "    image_pts, _ = cv2.projectPoints(pts_3d, rvec, t, K, None)\n",
    "    return image_pts.squeeze()\n",
    "\n",
    "img_pts1 = project_points(true_pts_3d, K, R1, t1)\n",
    "img_pts2 = project_points(true_pts_3d, K, R2, t2)\n",
    "\n",
    "# Triangulate\n",
    "triang = Triangulator(K, R1, t1, K, R2, t2)\n",
    "reconstructed_pts_3d = triang.triangulate(img_pts1, img_pts2)\n",
    "\n",
    "# Step 6: Compare results\n",
    "print(\"True 3D Points:\\n\", true_pts_3d)\n",
    "print(\"\\nReconstructed 3D Points:\\n\", reconstructed_pts_3d)\n",
    "print(\"\\nReconstruction Error (per point):\")\n",
    "print(np.linalg.norm(true_pts_3d - reconstructed_pts_3d, axis=1))\n",
    "print(\"\\nMean Error:\", np.mean(np.linalg.norm(true_pts_3d - reconstructed_pts_3d, axis=1)))"
   ]
  }
 ],
 "metadata": {
  "kernelspec": {
   "display_name": "venv",
   "language": "python",
   "name": "python3"
  },
  "language_info": {
   "codemirror_mode": {
    "name": "ipython",
    "version": 3
   },
   "file_extension": ".py",
   "mimetype": "text/x-python",
   "name": "python",
   "nbconvert_exporter": "python",
   "pygments_lexer": "ipython3",
   "version": "3.8.10"
  }
 },
 "nbformat": 4,
 "nbformat_minor": 5
}
