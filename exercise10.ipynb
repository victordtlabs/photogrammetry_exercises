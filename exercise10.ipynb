{
 "cells": [
  {
   "cell_type": "markdown",
   "id": "456e70fd",
   "metadata": {},
   "source": [
    "#### Task 10\n",
    "Write a calibration program to calibrate your cellphone camera. For generating the calibration images you can display a checkerboard in you computer monitor. How do you evaluate the quality of your estimation?"
   ]
  },
  {
   "cell_type": "code",
   "execution_count": 1,
   "id": "09dba894",
   "metadata": {},
   "outputs": [],
   "source": [
    "import cv2\n",
    "import numpy as np\n",
    "import glob\n",
    "import os\n",
    "\n",
    "class CameraCalibrator:\n",
    "    def __init__(self, checkerboard_dims=(9, 6), square_size=1.0):\n",
    "        self.checkerboard_dims = checkerboard_dims\n",
    "        self.square_size = square_size\n",
    "\n",
    "        # Prepare object points: (0,0,0), (1,0,0), ... (8,5,0)\n",
    "        objp = np.zeros((checkerboard_dims[0] * checkerboard_dims[1], 3), np.float32)\n",
    "        objp[:, :2] = np.mgrid[0:checkerboard_dims[0], 0:checkerboard_dims[1]].T.reshape(-1, 2)\n",
    "        objp *= square_size\n",
    "        self.objp = objp\n",
    "\n",
    "        self.objpoints = []  # 3D points in world\n",
    "        self.imgpoints = []  # 2D points in image\n",
    "\n",
    "    def add_image(self, image_path):\n",
    "        img = cv2.imread(image_path)\n",
    "        gray = cv2.cvtColor(img, cv2.COLOR_BGR2GRAY)\n",
    "\n",
    "        # Find checkerboard corners\n",
    "        ret, corners = cv2.findChessboardCorners(gray, self.checkerboard_dims, None)\n",
    "\n",
    "        if ret:\n",
    "            print(f\"Found corners in {image_path}\")\n",
    "            self.objpoints.append(self.objp)\n",
    "            corners2 = cv2.cornerSubPix(gray, corners, (11, 11), (-1, -1),\n",
    "                                        criteria=(cv2.TERM_CRITERIA_EPS + cv2.TERM_CRITERIA_MAX_ITER, 30, 0.001))\n",
    "            self.imgpoints.append(corners2)\n",
    "            return True\n",
    "        else:\n",
    "            print(f\"Checkerboard not found in {image_path}\")\n",
    "            return False\n",
    "\n",
    "    def calibrate(self, image_shape):\n",
    "        \"\"\"\n",
    "        Calibrates the camera.\n",
    "        Returns: ret, K, dist, rvecs, tvecs\n",
    "        \"\"\"\n",
    "        ret, K, dist, rvecs, tvecs = cv2.calibrateCamera(\n",
    "            self.objpoints, self.imgpoints, image_shape[::-1], None, None\n",
    "        )\n",
    "        return ret, K, dist, rvecs, tvecs\n",
    "\n",
    "    def reprojection_error(self, K, dist, rvecs, tvecs):\n",
    "        total_error = 0\n",
    "        total_points = 0\n",
    "        for i in range(len(self.objpoints)):\n",
    "            imgpoints2, _ = cv2.projectPoints(self.objpoints[i], rvecs[i], tvecs[i], K, dist)\n",
    "            error = cv2.norm(self.imgpoints[i], imgpoints2, cv2.NORM_L2)\n",
    "            total_error += error**2\n",
    "            total_points += len(imgpoints2)\n",
    "        mean_error = np.sqrt(total_error / total_points)\n",
    "        return mean_error\n"
   ]
  },
  {
   "cell_type": "code",
   "execution_count": null,
   "id": "7a238ae9",
   "metadata": {},
   "outputs": [
    {
     "name": "stdout",
     "output_type": "stream",
     "text": [
      "Found corners in data/checkboard/5.jpeg\n",
      "Found corners in data/checkboard/8.jpeg\n",
      "Found corners in data/checkboard/2.jpeg\n",
      "Found corners in data/checkboard/1.jpeg\n",
      "Found corners in data/checkboard/4.jpeg\n",
      "Found corners in data/checkboard/6.jpeg\n",
      "Found corners in data/checkboard/9.jpeg\n",
      "Found corners in data/checkboard/7.jpeg\n",
      "Found corners in data/checkboard/3.jpeg\n",
      "\n",
      "--- Calibration Results ---\n",
      "Camera matrix (K):\n",
      " [[1.11521097e+03 0.00000000e+00 7.95001061e+02]\n",
      " [0.00000000e+00 1.11563980e+03 6.04106162e+02]\n",
      " [0.00000000e+00 0.00000000e+00 1.00000000e+00]]\n",
      "Distortion coefficients:\n",
      " [ 0.0731748  -0.24600488  0.00144774 -0.00067746  0.2947214 ]\n",
      "Reprojection RMSE error: 0.3349 pixels\n"
     ]
    }
   ],
   "source": [
    "image_folder = \"data/checkboard/\"\n",
    "image_paths = glob.glob(os.path.join(image_folder, \"*.jpeg\"))\n",
    "\n",
    "calibrator = CameraCalibrator(checkerboard_dims=(9, 6), square_size=1.0)\n",
    "\n",
    "for img_path in image_paths:\n",
    "    calibrator.add_image(img_path)\n",
    "\n",
    "# Use shape of last loaded image\n",
    "img = cv2.imread(image_paths[0])\n",
    "ret, K, dist, rvecs, tvecs = calibrator.calibrate(img.shape[:2])\n",
    "error = calibrator.reprojection_error(K, dist, rvecs, tvecs)\n",
    "\n",
    "print(\"\\n--- Calibration Results ---\")\n",
    "print(\"Camera matrix (K):\\n\", K)\n",
    "print(\"Distortion coefficients:\\n\", dist.ravel())\n",
    "print(f\"Reprojection RMSE error: {error:.4f} pixels\")"
   ]
  }
 ],
 "metadata": {
  "kernelspec": {
   "display_name": "venv",
   "language": "python",
   "name": "python3"
  },
  "language_info": {
   "codemirror_mode": {
    "name": "ipython",
    "version": 3
   },
   "file_extension": ".py",
   "mimetype": "text/x-python",
   "name": "python",
   "nbconvert_exporter": "python",
   "pygments_lexer": "ipython3",
   "version": "3.8.10"
  }
 },
 "nbformat": 4,
 "nbformat_minor": 5
}
