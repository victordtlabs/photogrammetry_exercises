{
 "cells": [
  {
   "cell_type": "markdown",
   "id": "48db02d0",
   "metadata": {},
   "source": [
    "#### Task 12\n",
    "Write a python class that estimate the camera pose given a planar marker, using homographies. "
   ]
  },
  {
   "cell_type": "code",
   "execution_count": 1,
   "id": "7ff173bd",
   "metadata": {},
   "outputs": [],
   "source": [
    "import numpy as np\n",
    "import cv2\n",
    "\n",
    "class PoseEstimatorFromPlanarMarker:\n",
    "    def __init__(self, K: np.ndarray):\n",
    "        \"\"\"\n",
    "        K: (3x3) Camera intrinsic matrix.\n",
    "        \"\"\"\n",
    "        self.K = K\n",
    "        self.K_inv = np.linalg.inv(K)\n",
    "\n",
    "    def estimate_pose(self, image_points: np.ndarray, world_points: np.ndarray):\n",
    "        \"\"\"\n",
    "        Estimate the pose from 4+ 2D-3D correspondences assuming world_points lie on a plane.\n",
    "        \n",
    "        image_points: (N, 2) pixel coordinates\n",
    "        world_points: (N, 3) 3D coordinates (Z=0 for all if planar)\n",
    "        \n",
    "        Returns:\n",
    "            R (3x3): Rotation matrix\n",
    "            t (3x1): Translation vector\n",
    "        \"\"\"\n",
    "        # Make sure inputs are in correct format\n",
    "        image_points = np.asarray(image_points, dtype=np.float32)\n",
    "        world_points = np.asarray(world_points, dtype=np.float32)\n",
    "\n",
    "        # Use only x and y for world points (assume Z=0)\n",
    "        world_points_planar = world_points[:, :2]\n",
    "\n",
    "        # Compute homography from world (planar) to image\n",
    "        H, _ = cv2.findHomography(world_points_planar, image_points)\n",
    "\n",
    "        # Decompose homography into R and t\n",
    "        return self.decompose_homography(H)\n",
    "\n",
    "    def decompose_homography(self, H: np.ndarray):\n",
    "        \"\"\"\n",
    "        Decompose the homography into rotation and translation assuming a planar scene.\n",
    "        \"\"\"\n",
    "        # Normalize homography\n",
    "        H = H / np.linalg.norm(self.K_inv @ H[:, 0])\n",
    "        H_cam = self.K_inv @ H\n",
    "\n",
    "        h1 = H_cam[:, 0]\n",
    "        h2 = H_cam[:, 1]\n",
    "        h3 = np.cross(h1, h2)\n",
    "\n",
    "        R = np.stack([h1, h2, h3], axis=1)\n",
    "        U, _, Vt = np.linalg.svd(R)\n",
    "        R = U @ Vt  # Ensure it's a valid rotation matrix (det(R) = 1)\n",
    "\n",
    "        t = H_cam[:, 2].reshape(3, 1)\n",
    "\n",
    "        return R, t\n"
   ]
  },
  {
   "cell_type": "code",
   "execution_count": 2,
   "id": "f89e4ecc",
   "metadata": {},
   "outputs": [
    {
     "name": "stdout",
     "output_type": "stream",
     "text": [
      "Rotation matrix:\n",
      " [[1. 0. 0.]\n",
      " [0. 1. 0.]\n",
      " [0. 0. 1.]]\n",
      "Translation vector:\n",
      " [[-1.28785871e-15]\n",
      " [ 1.99840144e-16]\n",
      " [ 1.00000000e+01]]\n"
     ]
    }
   ],
   "source": [
    "# Intrinsic matrix\n",
    "K = np.array([[800, 0, 320],\n",
    "              [0, 800, 240],\n",
    "              [0,   0,   1]])\n",
    "\n",
    "# 3D points on the marker (Z = 0 for all)\n",
    "world_pts = np.array([\n",
    "    [0, 0, 0],\n",
    "    [1, 0, 0],\n",
    "    [1, 1, 0],\n",
    "    [0, 1, 0]\n",
    "])\n",
    "\n",
    "# Detected corners of the marker in the image (pixels)\n",
    "image_pts = np.array([\n",
    "    [320, 240],\n",
    "    [400, 240],\n",
    "    [400, 320],\n",
    "    [320, 320]\n",
    "])\n",
    "\n",
    "pose_estimator = PoseEstimatorFromPlanarMarker(K)\n",
    "R, t = pose_estimator.estimate_pose(image_pts, world_pts)\n",
    "\n",
    "print(\"Rotation matrix:\\n\", R)\n",
    "print(\"Translation vector:\\n\", t)\n"
   ]
  }
 ],
 "metadata": {
  "kernelspec": {
   "display_name": "venv",
   "language": "python",
   "name": "python3"
  },
  "language_info": {
   "codemirror_mode": {
    "name": "ipython",
    "version": 3
   },
   "file_extension": ".py",
   "mimetype": "text/x-python",
   "name": "python",
   "nbconvert_exporter": "python",
   "pygments_lexer": "ipython3",
   "version": "3.8.10"
  }
 },
 "nbformat": 4,
 "nbformat_minor": 5
}
